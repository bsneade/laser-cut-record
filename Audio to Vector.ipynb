{
 "cells": [
  {
   "cell_type": "markdown",
   "id": "d96b520a-9232-43ca-aaab-1d1efef525e8",
   "metadata": {},
   "source": [
    "# Audio to Vector (for Vinyl)\n",
    "================\n",
    "\n",
    "This code unpacks and repacks data from *16 bit stereo wav file at 44100hz sampling rate* to *16 bit mono wav file at 44100hz sampling rate*\n",
    "\n",
    "Inspiration from and code starting point from https://www.instructables.com/Laser-Cut-Record/.  I set out to make this more 'push button' than the original instructables."
   ]
  },
  {
   "cell_type": "code",
   "execution_count": 1,
   "id": "22e3c5b5-7356-4c91-8a64-1bcc022ec4bb",
   "metadata": {},
   "outputs": [
    {
     "name": "stdout",
     "output_type": "stream",
     "text": [
      "Requirement already satisfied: ezdxf in /opt/conda/lib/python3.11/site-packages (1.3.3)\n",
      "Requirement already satisfied: pyparsing>=2.0.1 in /opt/conda/lib/python3.11/site-packages (from ezdxf) (3.0.9)\n",
      "Requirement already satisfied: typing-extensions>=4.6.0 in /opt/conda/lib/python3.11/site-packages (from ezdxf) (4.7.1)\n",
      "Requirement already satisfied: numpy in /opt/conda/lib/python3.11/site-packages (from ezdxf) (1.24.4)\n",
      "Requirement already satisfied: fonttools in /opt/conda/lib/python3.11/site-packages (from ezdxf) (4.42.1)\n"
     ]
    }
   ],
   "source": [
    "# Install a pip package in the current Jupyter kernel\n",
    "import sys\n",
    "!{sys.executable} -m pip install ezdxf"
   ]
  },
  {
   "cell_type": "code",
   "execution_count": 2,
   "id": "dadc9abb-cf09-413e-9e2c-0fcb92326b3d",
   "metadata": {},
   "outputs": [],
   "source": [
    "#imports\n",
    "from scipy.io import wavfile\n",
    "import math\n",
    "\n",
    "import torch\n",
    "import torchaudio\n",
    "\n",
    "import ezdxf\n",
    "from ezdxf.addons.drawing import Frontend, RenderContext, dxf, svg, layout, config, matplotlib\n",
    "from ezdxf.gfxattribs import GfxAttribs\n",
    "\n",
    "from pathlib import Path\n",
    "\n",
    "import matplotlib.pyplot as plt\n",
    "import numpy as np"
   ]
  },
  {
   "cell_type": "markdown",
   "id": "d29a32c1-5cea-4a8d-a58e-bd99237e3190",
   "metadata": {},
   "source": [
    "# Configuration"
   ]
  },
  {
   "cell_type": "code",
   "execution_count": 3,
   "id": "f53fe150-a49d-4809-858f-2adc6db0b4f8",
   "metadata": {},
   "outputs": [],
   "source": [
    "# FILE SETTINGS\n",
    "fileName = \"frequency_sweep.wav\" #file to be imported (change this)\n",
    "# fileName = \"07 - Around The World.mp3\";"
   ]
  },
  {
   "cell_type": "code",
   "execution_count": 4,
   "id": "e7538187-bb36-4c69-aa83-c087c3172fea",
   "metadata": {},
   "outputs": [],
   "source": [
    "# CALCULATION OPTIONS\n",
    "samplingRate = 44100 #sampling rate of incoming audio\n",
    "rpm = 45.0 #33.3,45,78\n",
    "amplitude = 10 #in pixels\n",
    "minDist = 6.0 #min pixel spacing between points in vector path (to prevent cutter from stalling)\n",
    "spacing = 10 # starting pitch - the space between grooves "
   ]
  },
  {
   "cell_type": "code",
   "execution_count": 5,
   "id": "292b7eab-0ed4-4455-b709-347813b4843a",
   "metadata": {},
   "outputs": [],
   "source": [
    "# OUTPUT OPTIONS\n",
    "display_plots = False #Rendering the intermediate waveform plots takes time, turn these off for faster processing\n",
    "save_audio = True #Save the intermediate and final audio transforms\n",
    "\n",
    "cutlines = True #cut the inner and outer perimeters\n",
    "label = True #render the label\n",
    "\n",
    "innerHole = 0.286 #diameter of center hole in inches\n",
    "diameter = 7 # 11.8 #diameter of record in inches\n",
    "outerRad = 6.8 / 2 #5.75 #radius of outermost groove in inches\n",
    "innerRad = 2.25 #radius of innermost groove in inches\n",
    "labelRad = 2 #radius of the label in inches"
   ]
  },
  {
   "cell_type": "code",
   "execution_count": 6,
   "id": "592ac6b4-e5f0-4339-9802-17dff9fdddbb",
   "metadata": {},
   "outputs": [],
   "source": [
    "# LASER OPTIONS\n",
    "# dpi of cutter\n",
    "dpi = 1200 #420 \n",
    "# > many lasers will choke if you send them all the data at once, this number spits the cutting path into several files that\n",
    "# > can be sent to the laser cutter in series, decrease this number to lower the amount of data on each section\n",
    "numGroovesPerFile = 20 \n",
    "# > You will have to choose the cutoff frequency according to the max sampling rate that you can get with your cutter.  \n",
    "# > For example, my laser cutter melts anything above 2.5kHz at 45rpm, so I set my anti-aliasing filter cutoff to this same frequency.  \n",
    "# > Set the drop off as high as possible, for me this was 48dB/octave, that way the filter will have a hard cutoff.\n",
    "cutoff_freq = 2500\n",
    "# > amplify the signal as much as you can without noticeable effects of clipping (you will be able to get away with some clipping, \n",
    "# > and remember this is not crystal clear audio anyway).\n",
    "gain_db = -1.0"
   ]
  },
  {
   "cell_type": "code",
   "execution_count": 7,
   "id": "98646f9d-cdd9-414f-9d51-d4a724167788",
   "metadata": {},
   "outputs": [],
   "source": [
    "# CONSTANTS\n",
    "SCALE_NUM = 72 #25.4 #scale factor of vectors.  Our settings are in inches, but ezdxf works in mm\n",
    "SEC_PER_MINUTE = 60\n",
    "THETA_COUNT = 5880 #how many values of theta per cycle"
   ]
  },
  {
   "cell_type": "markdown",
   "id": "7b02c990-0c0d-479d-a88e-5e0cc2d6a16c",
   "metadata": {},
   "source": [
    "# Process Audio Data"
   ]
  },
  {
   "cell_type": "markdown",
   "id": "af1a24b2-00a1-469b-8870-fd38022dcf2a",
   "metadata": {},
   "source": [
    "## Helper utility"
   ]
  },
  {
   "cell_type": "code",
   "execution_count": 8,
   "id": "d144e4f5-fae6-45bc-a6fb-cfc042da57f2",
   "metadata": {},
   "outputs": [],
   "source": [
    "def plot_waveform(waveform, sample_rate, title=\"Waveform\", xlim=None, ylim=None):\n",
    "   waveform = waveform.numpy()\n",
    "   num_channels, num_frames = waveform.shape\n",
    "   time_axis = torch.arange(0, num_frames) / sample_rate\n",
    "\n",
    "   figure, axes = plt.subplots(num_channels, 1)\n",
    "   if num_channels == 1:\n",
    "       axes = [axes]\n",
    "   for c in range(num_channels):\n",
    "       axes[c].plot(time_axis, waveform[c], linewidth=1)\n",
    "       axes[c].grid(True)\n",
    "       if num_channels > 1:\n",
    "           axes[c].set_ylabel(f\"Channel {c+1}\")\n",
    "       if xlim:\n",
    "           axes[c].set_xlim(xlim)\n",
    "       if ylim:\n",
    "           axes[c].set_ylim(ylim)\n",
    "   figure.suptitle(title)\n",
    "   plt.show(block=False)"
   ]
  },
  {
   "cell_type": "markdown",
   "id": "0608892b-2565-4545-acc4-4526f1bb9764",
   "metadata": {},
   "source": [
    "## Load the File"
   ]
  },
  {
   "cell_type": "code",
   "execution_count": 9,
   "id": "f6c98ddb-9041-4aab-9cbe-11a887014a60",
   "metadata": {},
   "outputs": [
    {
     "name": "stdout",
     "output_type": "stream",
     "text": [
      "Skipping plot\n"
     ]
    }
   ],
   "source": [
    "# Load our audio file\n",
    "file_path = Path(fileName)\n",
    "waveform, sample_rate = torchaudio.load(file_path)\n",
    "plot_waveform(waveform, sample_rate, title=\"Original\") if display_plots else print(\"Skipping plot\")"
   ]
  },
  {
   "cell_type": "markdown",
   "id": "5ebacd40-6475-4cc7-b808-10f9c91f5e5b",
   "metadata": {},
   "source": [
    "## Stereo to Mono"
   ]
  },
  {
   "cell_type": "code",
   "execution_count": 10,
   "id": "ab813fab-e949-40da-b9b9-55ead3e725cd",
   "metadata": {},
   "outputs": [
    {
     "name": "stdout",
     "output_type": "stream",
     "text": [
      "Skipping plot\n"
     ]
    }
   ],
   "source": [
    "# Convert stereo to mono (since we only are going to laser one channel)\n",
    "waveform = torch.mean(waveform, dim=0).unsqueeze(0)\n",
    "plot_waveform(waveform, sample_rate, title=\"Mono\") if display_plots else print(\"Skipping plot\")"
   ]
  },
  {
   "cell_type": "markdown",
   "id": "e4eb806e-3d91-489c-9aa3-439e7b889180",
   "metadata": {},
   "source": [
    "## RIAA Filter"
   ]
  },
  {
   "cell_type": "code",
   "execution_count": 11,
   "id": "c8e893fc-a8dd-49a1-ac3d-49b4e75d2d1e",
   "metadata": {},
   "outputs": [
    {
     "name": "stdout",
     "output_type": "stream",
     "text": [
      "Skipping plot\n"
     ]
    }
   ],
   "source": [
    "# Apply the RIAA standard Vinyl filtering\n",
    "waveform = torchaudio.functional.riaa_biquad(waveform, sample_rate)\n",
    "plot_waveform(waveform, sample_rate, title=\"RIAA\") if display_plots else print(\"Skipping plot\")\n",
    "torchaudio.save(file_path.with_stem(f\"{file_path.stem}_riaa\").with_suffix(\".wav\"), waveform, sample_rate) if save_audio else print(\"Skipping audio save\")"
   ]
  },
  {
   "cell_type": "markdown",
   "id": "dcba7c2b-58c8-48bc-ad40-efc728cd5898",
   "metadata": {},
   "source": [
    "## Low pass filter"
   ]
  },
  {
   "cell_type": "code",
   "execution_count": 12,
   "id": "f0797f5a-1268-4b41-857e-2a5c28e0a23e",
   "metadata": {},
   "outputs": [
    {
     "name": "stdout",
     "output_type": "stream",
     "text": [
      "Skipping plot\n"
     ]
    }
   ],
   "source": [
    "# Apply a low pass filter\n",
    "waveform = torchaudio.functional.lowpass_biquad(waveform, sample_rate, cutoff_freq)\n",
    "plot_waveform(waveform, sample_rate, title=\"Lowpass\") if display_plots else print(\"Skipping plot\")\n",
    "torchaudio.save(file_path.with_stem(f\"{file_path.stem}_lowpass\").with_suffix(\".wav\"), waveform, sample_rate) if save_audio else print(\"Skipping audio save\")"
   ]
  },
  {
   "cell_type": "markdown",
   "id": "a19c8cc9-9eca-4388-8875-8ed018269e60",
   "metadata": {},
   "source": [
    "# Amplification"
   ]
  },
  {
   "cell_type": "code",
   "execution_count": 13,
   "id": "22d05cc2-253b-4d60-aabf-ba6ba05f547a",
   "metadata": {},
   "outputs": [
    {
     "name": "stdout",
     "output_type": "stream",
     "text": [
      "Skipping plot\n"
     ]
    }
   ],
   "source": [
    "# Apply amplifications\n",
    "waveform = torchaudio.functional.gain(waveform, gain_db)\n",
    "plot_waveform(waveform, sample_rate, title=\"Gain\") if display_plots else print(\"Skipping plot\")\n",
    "torchaudio.save(file_path.with_stem(f\"{file_path.stem}_gain\").with_suffix(\".wav\"), waveform, sample_rate) if save_audio else print(\"Skipping audio save\")"
   ]
  },
  {
   "cell_type": "markdown",
   "id": "283988a4-10f3-4f20-b5c6-b514d38fd7fe",
   "metadata": {},
   "source": [
    "## Normalize audio data to given bitdepth"
   ]
  },
  {
   "cell_type": "code",
   "execution_count": 14,
   "id": "59767e4a-857d-4582-94df-bfd08195e0c2",
   "metadata": {},
   "outputs": [
    {
     "name": "stdout",
     "output_type": "stream",
     "text": [
      "Adjusted amplitue: 0.6\n",
      "Skipping plot\n"
     ]
    }
   ],
   "source": [
    "# Recalcuate our variables based on scale pixel distances\n",
    "amplitude_s =  amplitude / dpi * SCALE_NUM\n",
    "print(f\"Adjusted amplitue: {amplitude_s}\")\n",
    "\n",
    "vol = torchaudio.transforms.Vol(gain=amplitude_s)\n",
    "waveform = vol(waveform)\n",
    "plot_waveform(waveform, sample_rate, title=\"Normalized to the adjusted gain\") if display_plots else print(\"Skipping plot\")\n",
    "torchaudio.save(file_path.with_stem(f\"{file_path.stem}_waveform\").with_suffix(\".wav\"), waveform, sample_rate) if save_audio else print(\"Skipping audio save\")"
   ]
  },
  {
   "cell_type": "markdown",
   "id": "26363558-c71b-41fa-a935-af3db10a6a04",
   "metadata": {},
   "source": [
    "# Vector Data Generation"
   ]
  },
  {
   "cell_type": "markdown",
   "id": "e99aeda6-ef0a-4159-be30-2cccdbd51acc",
   "metadata": {},
   "source": [
    "## Precalculate values needed for the vector transform"
   ]
  },
  {
   "cell_type": "code",
   "execution_count": 15,
   "id": "d2c6a45a-f604-4d7a-b9d9-e7b2c50e338a",
   "metadata": {},
   "outputs": [
    {
     "name": "stdout",
     "output_type": "stream",
     "text": [
      "length = 27.994285714285713s\n",
      "Adjusted minDist: 0.36\n",
      "Adjusted spacing: 0.6\n",
      "incr_num = 0.0010685689297924466 = (2 * 3.141592653589793) / 5880\n",
      "rad_incr_num = 0.0003061224489795918 = 3.4 * 72\n",
      "radius = 244.79999999999998 = 3.4 * 72\n"
     ]
    }
   ],
   "source": [
    "#We are done with Pytorch, so convert to numpy for the the vector stuff\n",
    "audio_data = waveform.detach().cpu().numpy()[0]\n",
    "length = len(audio_data) / sample_rate\n",
    "print(f\"length = {length}s\")\n",
    "\n",
    "# Recalculate some configuration based on the scale\n",
    "minDist_s =  minDist / dpi * SCALE_NUM\n",
    "print(f\"Adjusted minDist: {minDist_s}\")\n",
    "spacing_s =  spacing / dpi * SCALE_NUM\n",
    "print(f\"Adjusted spacing: {spacing_s}\")\n",
    "\n",
    "# Additional calculations\n",
    "incr_num = 2 * math.pi / THETA_COUNT #calculcate angular inrementation amount\n",
    "\n",
    "print(f\"incr_num = {incr_num} = (2 * {math.pi}) / {THETA_COUNT}\")\n",
    "rad_incr_num = (2 * amplitude_s + spacing_s) / THETA_COUNT #radial incrementation amount\n",
    "print(f\"rad_incr_num = {rad_incr_num} = {outerRad} * {SCALE_NUM}\")\n",
    "radius = outerRad * SCALE_NUM # calculate outermost radius\n",
    "print(f\"radius = {radius} = {outerRad} * {SCALE_NUM}\")\n",
    "\n",
    "# Calcuate our origin, which is the center of the record\n",
    "x_orig = diameter / 2 * SCALE_NUM\n",
    "y_orig = diameter / 2 * SCALE_NUM"
   ]
  },
  {
   "cell_type": "markdown",
   "id": "77c6de4a-4f40-477e-8ca3-0810412d91ab",
   "metadata": {},
   "source": [
    "## DXF Document Initialization"
   ]
  },
  {
   "cell_type": "code",
   "execution_count": 16,
   "id": "988a8e37-0872-4c31-b49a-413ce8908873",
   "metadata": {},
   "outputs": [],
   "source": [
    "# Init our ezdxf document\n",
    "doc = ezdxf.new(\"R2010\", setup=True)\n",
    "doc.units = ezdxf.units.IN\n",
    "\n",
    "#configure our layout\n",
    "layout_setup = doc.page_setup(\"Layout1\", \"ISO A0\", landscape=True)\n",
    "page_setup = layout_setup.page_setup(size=(diameter, diameter), units=\"inch\", margins=(0,0,0,0))\n",
    "\n",
    "# Create our model space for our drawing entities\n",
    "msp = doc.modelspace()\n",
    "\n",
    "# Add our layers ahead of time.  This is here for convinence.  If we rerun notebook cells, then we get duplicate layer errors\n",
    "# We should inherit dxf properties (like color) from the layer\n",
    "outer_grove_layer = doc.layers.add(name=\"outer_grove\", color=ezdxf.colors.CYAN, lineweight=5)\n",
    "audio_layer = doc.layers.add(\"audio\", color=ezdxf.colors.BLUE)\n",
    "# audio_layer.off() # temporarily hide the rendering of the audio data (this helps troubleshoot the inner groves)\n",
    "inner_grove_layer = doc.layers.add(name=\"inner_grove\", color=ezdxf.colors.MAGENTA)\n",
    "cutline_layer = doc.layers.add(\"cut_lines\", color=ezdxf.colors.RED)\n",
    "label_layer = doc.layers.add(name=\"label\", color=ezdxf.colors.GREEN)"
   ]
  },
  {
   "cell_type": "code",
   "execution_count": 17,
   "id": "83c00dbe-b5f5-425d-b151-270382e7848a",
   "metadata": {},
   "outputs": [],
   "source": [
    "class Revolution:\n",
    "    def __init__(self, radius):\n",
    "        self.vertices = []\n",
    "        self.end_radius = radius\n",
    "\n",
    "# Calculate a path one revolution around the disk at the specified radius with the specified change in radius per increment\n",
    "def calc_revolution(rad, rad_dec, start = None):\n",
    "    print(f'{rad}, {rad_dec}, {start}')\n",
    "    # Set up our object to return\n",
    "    rev = Revolution(rad)\n",
    "    # add the start vertex if specified\n",
    "    if start:\n",
    "        rev.vertices.append(start) \n",
    "    \n",
    "    xValLast = 0\n",
    "    yValLast = 0\n",
    "    for theta in np.arange(0, 2 * math.pi, incr_num): #for theta between 0 and 2pi\n",
    "        #calculate new point\n",
    "        radCalc = rev.end_radius\n",
    "        xVal = x_orig + radCalc * math.cos(theta)\n",
    "        yVal = y_orig - radCalc * math.sin(theta)\n",
    "        if (xValLast-xVal)**2 + (yValLast-yVal)**2 > minDist_s**2:\n",
    "            rev.vertices.append((xVal,yVal))\n",
    "            # store last coordinates in vector path\n",
    "            xValLast = xVal\n",
    "            yValLast = yVal\n",
    "        rev.end_radius -= rad_dec # decreasing radius forms spiral if not 0\n",
    "    return rev"
   ]
  },
  {
   "cell_type": "markdown",
   "id": "95a336b8-ad51-43d0-bed5-c7a0ace79b06",
   "metadata": {},
   "source": [
    "## Silent outer groove"
   ]
  },
  {
   "cell_type": "code",
   "execution_count": 18,
   "id": "cd22578c-634c-4506-8d62-230c59c6b235",
   "metadata": {
    "scrolled": true
   },
   "outputs": [
    {
     "name": "stdout",
     "output_type": "stream",
     "text": [
      "Creating the silent outer groove: incr_num=0.0010685689297924466, radius=244.79999999999998\n",
      "244.79999999999998, 0.0003061224489795918, None\n",
      "Adding line with 2940 vertices\n"
     ]
    }
   ],
   "source": [
    "print(f\"Creating the silent outer groove: incr_num={incr_num}, radius={radius}\")\n",
    "\n",
    "outer_grove_rev = calc_revolution(radius, rad_incr_num)\n",
    "print(f\"Adding line with {len(outer_grove_rev.vertices)} vertices\")\n",
    "outer_grove = msp.add_lwpolyline(\n",
    "    outer_grove_rev.vertices,\n",
    "    dxfattribs=GfxAttribs(layer=outer_grove_layer.dxf.name)\n",
    ")\n",
    "# outer_grove.dxf.layer = outer_grove_layer.dxf.name #set the layer.  \n",
    "\n",
    "radius = outer_grove_rev.end_radius #update our current radius tracker"
   ]
  },
  {
   "cell_type": "markdown",
   "id": "82fb17f3-7f8d-4c85-895d-b46842e9c155",
   "metadata": {},
   "source": [
    "## Draw the audio line(s)"
   ]
  },
  {
   "cell_type": "code",
   "execution_count": 19,
   "id": "a91016d6-9142-4b9f-bbbe-f7c5e6f33228",
   "metadata": {},
   "outputs": [
    {
     "name": "stdout",
     "output_type": "stream",
     "text": [
      "Index Incr: 44100 * 60 / 45.0 / 5880 = 10\n",
      "Creating the audio lines: indexIncr=10, radius=242.99999999994023, innerRad=2.25, rad_incr_num=0.0003061224489795918\n",
      "242.99999999994023 > 162.0 and 0 < 1234548 - 0.010685689297924466\n",
      "241.19999999988048 > 162.0 and 58800 < 1234548 - 0.010685689297924466\n",
      "239.39999999982072 > 162.0 and 117600 < 1234548 - 0.010685689297924466\n",
      "237.59999999976097 > 162.0 and 176400 < 1234548 - 0.010685689297924466\n",
      "235.7999999997012 > 162.0 and 235200 < 1234548 - 0.010685689297924466\n",
      "233.99999999964146 > 162.0 and 294000 < 1234548 - 0.010685689297924466\n",
      "232.1999999995817 > 162.0 and 352800 < 1234548 - 0.010685689297924466\n",
      "230.39999999952195 > 162.0 and 411600 < 1234548 - 0.010685689297924466\n",
      "228.5999999994622 > 162.0 and 470400 < 1234548 - 0.010685689297924466\n",
      "226.79999999940244 > 162.0 and 529200 < 1234548 - 0.010685689297924466\n",
      "224.9999999993427 > 162.0 and 588000 < 1234548 - 0.010685689297924466\n",
      "223.19999999928294 > 162.0 and 646800 < 1234548 - 0.010685689297924466\n",
      "221.39999999922318 > 162.0 and 705600 < 1234548 - 0.010685689297924466\n",
      "219.59999999916343 > 162.0 and 764400 < 1234548 - 0.010685689297924466\n",
      "217.79999999910368 > 162.0 and 823200 < 1234548 - 0.010685689297924466\n",
      "215.99999999904392 > 162.0 and 882000 < 1234548 - 0.010685689297924466\n",
      "214.19999999898417 > 162.0 and 940800 < 1234548 - 0.010685689297924466\n",
      "212.39999999892441 > 162.0 and 999600 < 1234548 - 0.010685689297924466\n",
      "210.59999999886466 > 162.0 and 1058400 < 1234548 - 0.010685689297924466\n",
      "Spliting track (1.0): max grooves per line reached\n",
      "Adding line with 57040 vertices\n",
      "208.7999999988049 > 162.0 and 1117200 < 1234548 - 0.010685689297924466\n",
      "Adding line with 3346 vertices\n"
     ]
    }
   ],
   "source": [
    "numGrooves = 1;\n",
    "index = 0;\n",
    "indexIncr = int(samplingRate * SEC_PER_MINUTE / rpm / THETA_COUNT)\n",
    "print(f\"Index Incr: {samplingRate} * {SEC_PER_MINUTE} / {rpm} / {THETA_COUNT} = {indexIncr}\")\n",
    "\n",
    "# loop while we are still inside the radius of the disk and we still have audio to process\n",
    "print(f\"Creating the audio lines: indexIncr={indexIncr}, radius={radius}, innerRad={innerRad}, rad_incr_num={rad_incr_num}\") \n",
    "xValLast = 0; \n",
    "yValLast = 0;\n",
    "audio_grove_vertices = [outer_grove_rev.vertices[-1]] # start at the last 'rendered' point\n",
    "while radius > innerRad * SCALE_NUM and index < len(audio_data) - (THETA_COUNT * indexIncr):\n",
    "    print(f\"{radius} > {innerRad * SCALE_NUM} and {index} < {len(audio_data)} - {incr_num * indexIncr}\")\n",
    "    # loop once around the disk\n",
    "    for theta in np.arange(0, 2 * math.pi, incr_num): #for theta between 0 and 2pi\n",
    "        # calculate the next point in the audio line\n",
    "        radCalc = radius + audio_data[index]\n",
    "        index += indexIncr # go to next spot in audio data\n",
    "        xVal = x_orig + radCalc * math.cos(theta)\n",
    "        yVal = y_orig - radCalc * math.sin(theta)\n",
    "        if (xValLast-xVal)**2 + (yValLast-yVal)**2 > minDist_s**2:\n",
    "            audio_grove_vertices.append((xVal,yVal))\n",
    "            # store last coordinates in vector path\n",
    "            xValLast = xVal\n",
    "            yValLast = yVal\n",
    "        radius -= rad_incr_num # decreasing radius forms spiral\n",
    "\n",
    "    # Handle the splitting of the audio track\n",
    "    numGrooves += 1\n",
    "    if numGrooves % numGroovesPerFile == 0:\n",
    "        print(f\"Spliting track ({numGrooves / numGroovesPerFile}): max grooves per line reached\")\n",
    "        # time to splt the track\n",
    "        print(f\"Adding line with {len(audio_grove_vertices)} vertices\")\n",
    "        audio_grove = msp.add_lwpolyline(audio_grove_vertices) # write what we have so far\n",
    "        audio_grove.dxf.layer = audio_layer.dxf.name\n",
    "        audio_grove_vertices = [] # reset our data\n",
    "        audio_grove_vertices.append((xValLast, yValLast)) # add the last vertex so we have a continuous track\n",
    "\n",
    "print(f\"Adding line with {len(audio_grove_vertices)} vertices\")\n",
    "audio_grove = msp.add_lwpolyline(audio_grove_vertices) #Note the returned reference is only the last written track\n",
    "audio_grove.dxf.layer = audio_layer.dxf.name"
   ]
  },
  {
   "cell_type": "markdown",
   "id": "e9cf8042-9d81-451d-8668-bfa632603c74",
   "metadata": {},
   "source": [
    "## Draw silent inner locked groove"
   ]
  },
  {
   "cell_type": "code",
   "execution_count": 20,
   "id": "e7113037-3e94-4042-a444-24e078ef8a2b",
   "metadata": {},
   "outputs": [
    {
     "name": "stdout",
     "output_type": "stream",
     "text": [
      "Creating the silent inner groove: incr_num=0.0010685689297924466, radius=206.99999999874515\n",
      "206.99999999874515, 0.0003061224489795918, (458.95207803623816, 252.44228579445058)\n",
      "Creating the silent inner locked groove: incr_num=0.0010685689297924466, radius=205.1999999986854\n"
     ]
    }
   ],
   "source": [
    "print(f\"Creating the silent inner groove: incr_num={incr_num}, radius={radius}\")\n",
    "inner_grove_rev = calc_revolution(radius, rad_incr_num, audio_grove_vertices[-1])\n",
    "inner_grove = msp.add_lwpolyline(inner_grove_rev.vertices)\n",
    "inner_grove.dxf.layer = inner_grove_layer.dxf.name\n",
    "radius = inner_grove_rev.end_radius\n",
    "\n",
    "print(f\"Creating the silent inner locked groove: incr_num={incr_num}, radius={radius}\")\n",
    "inner_grove2 = msp.add_circle((x_orig, y_orig), radius) #closed, so just draw it as a circle\n",
    "inner_grove2.dxf.layer = inner_grove_layer.dxf.name"
   ]
  },
  {
   "cell_type": "code",
   "execution_count": 21,
   "id": "38941f92-de34-4735-aacd-53b27552893f",
   "metadata": {},
   "outputs": [],
   "source": [
    "# Sanity check\n",
    "if radius < labelRad * SCALE_NUM:\n",
    "    print(f\"WARNING: Your audio radius {radius} has crashed into your label radius {labelRad * SCALE_NUM}\")"
   ]
  },
  {
   "cell_type": "markdown",
   "id": "c208d402-2afb-4d1f-b296-e4f61f0ea1e5",
   "metadata": {},
   "source": [
    "## Add the cutlines"
   ]
  },
  {
   "cell_type": "code",
   "execution_count": 22,
   "id": "1e163b4c-e660-4055-af14-fbebd274ea56",
   "metadata": {},
   "outputs": [
    {
     "name": "stdout",
     "output_type": "stream",
     "text": [
      "Adding Center Hole at: (252.0, 252.0) and radius=10.296\n",
      "Adding Outer Edge at: (252.0, 252.0) and radius=252.0\n"
     ]
    }
   ],
   "source": [
    "# Generate the cut lines \n",
    "if cutlines:\n",
    "    # Center Hole\n",
    "    print(f\"Adding Center Hole at: {(x_orig, y_orig)} and radius={innerHole / 2 * SCALE_NUM}\")\n",
    "    inner_hole_circle = msp.add_circle((x_orig, y_orig), innerHole / 2 * SCALE_NUM) \n",
    "    inner_hole_circle.dxf.layer = cutline_layer.dxf.name\n",
    "\n",
    "    # Outer edge\n",
    "    print(f\"Adding Outer Edge at: {(x_orig, y_orig)} and radius={diameter / 2 * SCALE_NUM}\")\n",
    "    outer_edge_circle = msp.add_circle((x_orig, y_orig), diameter / 2 * SCALE_NUM) \n",
    "    outer_edge_circle.dxf.layer = cutline_layer.dxf.name\n"
   ]
  },
  {
   "cell_type": "markdown",
   "id": "be874c6f-f1f9-4b89-b914-56eb235f951a",
   "metadata": {},
   "source": [
    "## Add a label to the disk"
   ]
  },
  {
   "cell_type": "code",
   "execution_count": 23,
   "id": "f9f50b55-6d28-4561-ae85-19ed20ad00df",
   "metadata": {},
   "outputs": [
    {
     "name": "stdout",
     "output_type": "stream",
     "text": [
      "Adding label Edge at: (252.0, 252.0) and radius=144\n",
      "Adding label text at: (252.0 + (2*2/3 * 72 * -0.9960878351411849), 252.0 - (22/3 * 72 * -0.9960878351411849))\n"
     ]
    }
   ],
   "source": [
    "label_text = f'''\n",
    "{file_path}\n",
    "* Sampling Rate: {samplingRate} Hz\n",
    "* RPM: {rpm}\n",
    "* Amplitude: {amplitude} pixels\n",
    "* DPI: {dpi}\n",
    "* Cutoff Frequency: {cutoff_freq} Hz \n",
    "* Gain: {gain_db} Db\n",
    "'''\n",
    "\n",
    "if label:\n",
    "    # Label edge\n",
    "    print(f\"Adding label Edge at: {(x_orig, y_orig)} and radius={labelRad * SCALE_NUM}\")\n",
    "    label_edge_circle = msp.add_circle((x_orig, y_orig), labelRad * SCALE_NUM) \n",
    "    label_edge_circle.dxf.layer = label_layer.dxf.name\n",
    "\n",
    "    # Add the file name\n",
    "    print(f\"Adding label text at: ({x_orig} + (2*{labelRad}/3 * {SCALE_NUM} * {math.cos(90+45)}), {y_orig} - (2{labelRad}/3 * {SCALE_NUM} * {math.cos(90+45)}))\")\n",
    "    label_file = msp.add_mtext(label_text)\n",
    "    label_file.set_location((x_orig + (2*labelRad/3 * SCALE_NUM * math.cos(90+45)), y_orig - (2*labelRad/3 * SCALE_NUM * math.cos(90+45)))) # put it at a 45 deg angle top left from the origin"
   ]
  },
  {
   "cell_type": "markdown",
   "id": "3ea58c2b-82ae-4875-9dbe-ca9862466267",
   "metadata": {},
   "source": [
    "# Export our results"
   ]
  },
  {
   "cell_type": "code",
   "execution_count": 24,
   "id": "52b721a5-03ff-4bf8-8d31-ee479590fd90",
   "metadata": {},
   "outputs": [],
   "source": [
    "# Create some shared export resources\n",
    "\n",
    "# Create the render context\n",
    "context = RenderContext(doc)\n",
    "\n",
    "# Create a page layout, should be the size of the record\n",
    "page = layout.Page(diameter, diameter,\n",
    "                   layout.Units.inch,\n",
    "                   margins=layout.Margins.all(0))\n",
    "\n",
    "# Set up our export options\n",
    "cfg = config.Configuration(\n",
    "    background_policy=config.BackgroundPolicy.OFF, # transparent background\n",
    "    color_policy=config.ColorPolicy.COLOR, # use the dxf specified colors\n",
    "    hatch_policy=config.HatchPolicy.IGNORE, # don't use a fill for our entities\n",
    "    line_policy=config.LinePolicy.ACCURATE, # follow the DXF properties accurately\n",
    "    lineweight_policy=config.LineweightPolicy.ABSOLUTE, # convert DXF properties to mm\n",
    ")"
   ]
  },
  {
   "cell_type": "markdown",
   "id": "0464e93c-a766-477b-b227-16fce60a8456",
   "metadata": {},
   "source": [
    "## PNG Export\n",
    "\n",
    "This is really just for reference.  The JPEG isn't usable by the laser cutter.\n",
    "\n",
    "See https://ezdxf.mozman.at/docs/addons/drawing.html#ezdxf.addons.drawing.matplotlib.qsave for export details"
   ]
  },
  {
   "cell_type": "code",
   "execution_count": 25,
   "id": "9127c187-1d4f-454e-8b42-70a240a9a0ae",
   "metadata": {},
   "outputs": [
    {
     "data": {
      "image/png": "[encoded data removed]",
      "text/plain": [
       "<Figure size 480x480 with 1 Axes>"
      ]
     },
     "metadata": {},
     "output_type": "display_data"
    }
   ],
   "source": [
    "# Create our matplotlib figure\n",
    "fig = plt.figure()\n",
    "ax = fig.add_axes([0, 0, 1, 1])\n",
    "\n",
    "# Create the backend\n",
    "plt_backend = matplotlib.MatplotlibBackend(ax)\n",
    "# Create the frontend\n",
    "plt_frontend = Frontend(context, plt_backend, config=cfg)\n",
    "\n",
    "# I like to do drarwings\n",
    "plt_frontend.draw_layout(msp, finalize=True)\n",
    "\n",
    "# Render to PNG\n",
    "fig.savefig(file_path.with_suffix(\".png\"), dpi=72)  # TODO - derive the DPI so this scales correctly"
   ]
  },
  {
   "cell_type": "markdown",
   "id": "6670751f-ce9a-4935-923f-36bf597f8ef8",
   "metadata": {},
   "source": [
    "## SVG Export\n",
    "\n",
    "This will work for laser cutting.\n",
    "\n",
    "See https://ezdxf.readthedocs.io/en/stable/tutorials/image_export.html#id8 export for details"
   ]
  },
  {
   "cell_type": "code",
   "execution_count": 26,
   "id": "a113b953-bf81-4f7c-a6aa-7ab9628eac78",
   "metadata": {},
   "outputs": [],
   "source": [
    "# Create the backend and frontend\n",
    "svg_backend = svg.SVGBackend()\n",
    "svg_frontend = Frontend(context, svg_backend, config=cfg)\n",
    "\n",
    "# I like to do drawrings\n",
    "svg_frontend.draw_layout(msp)\n",
    "\n",
    "# Get the SVG rendering as string and write it to a file\n",
    "svg_string = svg_backend.get_string(page)\n",
    "with open(file_path.with_suffix(\".svg\"), \"wt\", encoding=\"utf8\") as fp:\n",
    "    fp.write(svg_string)"
   ]
  },
  {
   "cell_type": "markdown",
   "id": "25318a87-7a4a-48df-91d5-139a77fef199",
   "metadata": {},
   "source": [
    "## DXF Export"
   ]
  },
  {
   "cell_type": "code",
   "execution_count": 27,
   "id": "aa4e4acc-6e7a-47ec-b98d-3d7afe06d708",
   "metadata": {},
   "outputs": [],
   "source": [
    "doc.saveas(file_path.with_suffix(\".dxf\"))"
   ]
  },
  {
   "cell_type": "code",
   "execution_count": null,
   "id": "d0b3336f-449e-467e-a908-b290ce203de7",
   "metadata": {},
   "outputs": [],
   "source": []
  }
 ],
 "metadata": {
  "kernelspec": {
   "display_name": "Python 3 (ipykernel)",
   "language": "python",
   "name": "python3"
  },
  "language_info": {
   "codemirror_mode": {
    "name": "ipython",
    "version": 3
   },
   "file_extension": ".py",
   "mimetype": "text/x-python",
   "name": "python",
   "nbconvert_exporter": "python",
   "pygments_lexer": "ipython3",
   "version": "3.11.5"
  }
 },
 "nbformat": 4,
 "nbformat_minor": 5
}
